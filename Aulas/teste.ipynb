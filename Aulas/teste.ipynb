{
 "cells": [
  {
   "cell_type": "code",
   "execution_count": null,
   "metadata": {},
   "outputs": [],
   "source": [
    "\n",
    "# main.py\n",
    "from Cliente import Cliente\n",
    "from Usuarios import registrar_usuario, exibir_usuarios, login_usuario\n",
    "\n",
    "def main():\n",
    "    while True:\n",
    "        print(\"\\nMENU\")\n",
    "        print(\"1 - Registrar Usuário\")\n",
    "        print(\"2 - Fazer Login\")\n",
    "        print(\"3 - Exibir Usuários\")\n",
    "        print(\"4 - Cadastrar Cliente\")\n",
    "        print(\"5 - Sair\")\n",
    "        \n",
    "        escolha = input(\"Escolha uma opção: \")\n",
    "        \n",
    "        if escolha == \"1\":\n",
    "            registrar_usuario()\n",
    "        elif escolha == \"2\":\n",
    "            login_usuario()\n",
    "        elif escolha == \"3\":\n",
    "            exibir_usuarios()\n",
    "        elif escolha == \"4\":\n",
    "            nome = input(\"Nome: \")\n",
    "            email = input(\"Email: \")\n",
    "            endereco = input(\"Endereço: \")\n",
    "            telefone = input(\"Telefone: \")\n",
    "            cliente = Cliente(nome, email, endereco, telefone)\n",
    "            print(\"Cliente cadastrado com sucesso!\")\n",
    "            cliente.mostrar_dados()\n",
    "        elif escolha == \"5\":\n",
    "            print(\"Encerrando o programa...\")\n",
    "            break\n",
    "        else:\n",
    "            print(\"Opção inválida. Tente novamente.\")\n",
    "\n",
    "if __name__ == \"__main__\":\n",
    "    main()\n",
    "\n"
   ]
  }
 ],
 "metadata": {
  "kernelspec": {
   "display_name": "Python 3",
   "language": "python",
   "name": "python3"
  },
  "language_info": {
   "codemirror_mode": {
    "name": "ipython",
    "version": 3
   },
   "file_extension": ".py",
   "mimetype": "text/x-python",
   "name": "python",
   "nbconvert_exporter": "python",
   "pygments_lexer": "ipython3",
   "version": "3.12.9"
  }
 },
 "nbformat": 4,
 "nbformat_minor": 2
}
