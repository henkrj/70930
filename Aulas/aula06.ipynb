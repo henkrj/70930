{
 "cells": [
  {
   "cell_type": "code",
   "execution_count": 10,
   "metadata": {},
   "outputs": [
    {
     "name": "stdout",
     "output_type": "stream",
     "text": [
      "20x+3\n",
      "raiz=-0.15\n"
     ]
    }
   ],
   "source": [
    "class Equacao_primeiro_grau:\n",
    "    def __init__(self,a , b):\n",
    "        self.inclicação = a\n",
    "        self.intercepto = b\n",
    "        self.raiz = -b/a\n",
    "    def equacao(self):\n",
    "        print('{}x+{}'.format(self.inclicação,self.intercepto))\n",
    "    def raiz_print(self):\n",
    "        print('raiz={}'.format(self.raiz))\n",
    "    def y (self, x):\n",
    "        print(self.inclicação*x+self.intercepto)\n",
    "        \n",
    "        \n",
    "        \n",
    "epg=Equacao_primeiro_grau(20,3)\n",
    "epg.equacao()\n",
    "epg.raiz_print()\n",
    "\n"
   ]
  },
  {
   "cell_type": "code",
   "execution_count": 12,
   "metadata": {},
   "outputs": [
    {
     "name": "stdout",
     "output_type": "stream",
     "text": [
      "203\n"
     ]
    }
   ],
   "source": [
    "epg.y(10)"
   ]
  }
 ],
 "metadata": {
  "kernelspec": {
   "display_name": "Python 3",
   "language": "python",
   "name": "python3"
  },
  "language_info": {
   "codemirror_mode": {
    "name": "ipython",
    "version": 3
   },
   "file_extension": ".py",
   "mimetype": "text/x-python",
   "name": "python",
   "nbconvert_exporter": "python",
   "pygments_lexer": "ipython3",
   "version": "3.12.9"
  }
 },
 "nbformat": 4,
 "nbformat_minor": 2
}
