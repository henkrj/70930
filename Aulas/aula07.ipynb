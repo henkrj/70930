{
 "cells": [
  {
   "cell_type": "code",
   "execution_count": 1,
   "metadata": {},
   "outputs": [
    {
     "name": "stdout",
     "output_type": "stream",
     "text": [
      "Área: 50\n",
      "Perímetro: 30\n"
     ]
    }
   ],
   "source": [
    "class Retangulo:\n",
    "    def __init__(self, base, altura):\n",
    "        self.base = base\n",
    "        self.altura = altura\n",
    "    \n",
    "    def area(self):\n",
    "        return self.base * self.altura\n",
    "    \n",
    "    def perimetro(self):\n",
    "        return 2 * (self.base + self.altura)\n",
    "\n",
    "# Criando um objeto da classe Retangulo\n",
    "teste_retangulo = Retangulo(5, 10)\n",
    "\n",
    "# Testando os métodos\n",
    "print(\"Área:\", teste_retangulo.area())\n",
    "print(\"Perímetro:\", teste_retangulo.perimetro())\n"
   ]
  },
  {
   "cell_type": "code",
   "execution_count": 8,
   "metadata": {},
   "outputs": [],
   "source": [
    "class Conta:\n",
    "    def __init__(self, saldo, titular):\n",
    "        self.saldo = saldo\n",
    "        self.titular = titular\n",
    "    \n",
    "    def depositar(self, x):\n",
    "        self.saldo = x + self.saldo #self.saldo += x\n",
    "    \n",
    "    def sacar(self, y):\n",
    "        self.saldo -= y #self.saldo - y\n",
    "    \n",
    "        "
   ]
  },
  {
   "cell_type": "code",
   "execution_count": 10,
   "metadata": {},
   "outputs": [
    {
     "name": "stdout",
     "output_type": "stream",
     "text": [
      "Igor\n",
      "0\n"
     ]
    }
   ],
   "source": [
    "banco=Conta(0,'Igor')\n",
    "print(banco.titular)\n",
    "print(banco.saldo)"
   ]
  },
  {
   "cell_type": "code",
   "execution_count": 18,
   "metadata": {},
   "outputs": [
    {
     "name": "stdout",
     "output_type": "stream",
     "text": [
      "401\n"
     ]
    }
   ],
   "source": [
    "banco.depositar(100)\n",
    "print(banco.saldo)"
   ]
  },
  {
   "cell_type": "code",
   "execution_count": 19,
   "metadata": {},
   "outputs": [
    {
     "name": "stdout",
     "output_type": "stream",
     "text": [
      "368\n"
     ]
    }
   ],
   "source": [
    "banco.sacar(33)\n",
    "print(banco.saldo)"
   ]
  },
  {
   "cell_type": "code",
   "execution_count": 26,
   "metadata": {},
   "outputs": [],
   "source": [
    "#ENCAPSULAMENTO\n",
    "\n",
    "class Cachorro:\n",
    "    def __init__(self, nome, idade, raca):\n",
    "        self._Nome = nome\n",
    "        self.__Idade = idade\n",
    "        self.Raça = raca\n",
    "    def latir (self):\n",
    "        print('Auuuuu!!')\n",
    "    "
   ]
  },
  {
   "cell_type": "code",
   "execution_count": 21,
   "metadata": {},
   "outputs": [],
   "source": [
    "teste = Cachorro('Kobe', '3', 'Dalmata')"
   ]
  },
  {
   "cell_type": "code",
   "execution_count": 25,
   "metadata": {},
   "outputs": [
    {
     "data": {
      "text/plain": [
       "'Kobe'"
      ]
     },
     "execution_count": 25,
     "metadata": {},
     "output_type": "execute_result"
    }
   ],
   "source": [
    "teste.Nome"
   ]
  },
  {
   "cell_type": "code",
   "execution_count": 27,
   "metadata": {},
   "outputs": [
    {
     "ename": "AttributeError",
     "evalue": "'Cachorro' object has no attribute '__Idade'",
     "output_type": "error",
     "traceback": [
      "\u001b[1;31m---------------------------------------------------------------------------\u001b[0m",
      "\u001b[1;31mAttributeError\u001b[0m                            Traceback (most recent call last)",
      "Cell \u001b[1;32mIn[27], line 1\u001b[0m\n\u001b[1;32m----> 1\u001b[0m \u001b[43mteste\u001b[49m\u001b[38;5;241;43m.\u001b[39;49m\u001b[43m__Idade\u001b[49m\n",
      "\u001b[1;31mAttributeError\u001b[0m: 'Cachorro' object has no attribute '__Idade'"
     ]
    }
   ],
   "source": [
    "\n",
    "teste.__Idade"
   ]
  },
  {
   "cell_type": "code",
   "execution_count": 29,
   "metadata": {},
   "outputs": [],
   "source": [
    "#Getter\n",
    "\n",
    "class Cachorro:\n",
    "    def __init__(self, nome, idade, raca):\n",
    "        self._Nome = nome\n",
    "        self.__Idade = idade\n",
    "        self.Raça = raca\n",
    "    def latir (self):\n",
    "        print('Auuuuu!!')\n",
    "    def Idade(self):\n",
    "        return self.__Idade\n",
    "    "
   ]
  },
  {
   "cell_type": "code",
   "execution_count": 33,
   "metadata": {},
   "outputs": [
    {
     "data": {
      "text/plain": [
       "3"
      ]
     },
     "execution_count": 33,
     "metadata": {},
     "output_type": "execute_result"
    }
   ],
   "source": [
    "teste2 = Cachorro('Kobe', 3, 'Dalmata')\n",
    "teste2.Idade()"
   ]
  },
  {
   "cell_type": "code",
   "execution_count": 34,
   "metadata": {},
   "outputs": [],
   "source": [
    "#setter\n",
    "\n",
    "class Cachorro:\n",
    "    def __init__(self, nome, idade, raca):\n",
    "        self._Nome = nome\n",
    "        self.__Idade = idade\n",
    "        self.Raça = raca\n",
    "    def latir (self):\n",
    "        print('Auuuuu!!')\n",
    "    def ver_Idade(self):\n",
    "        return self.__Idade\n",
    "    def substituir_Idade(self,nIdade):\n",
    "        self.__Idade = nIdade\n",
    "        "
   ]
  },
  {
   "cell_type": "code",
   "execution_count": 36,
   "metadata": {},
   "outputs": [
    {
     "data": {
      "text/plain": [
       "3"
      ]
     },
     "execution_count": 36,
     "metadata": {},
     "output_type": "execute_result"
    }
   ],
   "source": [
    "teste3 = Cachorro('Kobe', 3, 'Dalmata')\n",
    "teste3.ver_Idade()"
   ]
  },
  {
   "cell_type": "code",
   "execution_count": 39,
   "metadata": {},
   "outputs": [],
   "source": [
    "teste3.__Idade=4"
   ]
  },
  {
   "cell_type": "code",
   "execution_count": 42,
   "metadata": {},
   "outputs": [
    {
     "data": {
      "text/plain": [
       "5"
      ]
     },
     "execution_count": 42,
     "metadata": {},
     "output_type": "execute_result"
    }
   ],
   "source": [
    "teste3.substituir_Idade(5)\n",
    "teste3.ver_Idade()"
   ]
  },
  {
   "cell_type": "markdown",
   "metadata": {},
   "source": [
    "#Getter permite visualização que está protegido.\n",
    "#Setter "
   ]
  },
  {
   "cell_type": "code",
   "execution_count": 46,
   "metadata": {},
   "outputs": [],
   "source": [
    "class Equacao_primeiro_grau:\n",
    "    def __init__(self,a , b):\n",
    "        self.inclicação = a\n",
    "        self.intercepto = b\n",
    "        self.raiz = -b/a\n",
    "    def __equacao(self):\n",
    "        print('{}x+{}'.format(self.inclicação,self.intercepto))\n",
    "    def raiz_print(self):\n",
    "        print('raiz={}'.format(self.raiz))\n",
    "    def y (self, x):\n",
    "        print(self.inclicação*x+self.intercepto)\n",
    "    def mostra_equação (self):\n",
    "        return self.__equacao()\n",
    "        \n",
    "        "
   ]
  },
  {
   "cell_type": "code",
   "execution_count": 47,
   "metadata": {},
   "outputs": [
    {
     "name": "stdout",
     "output_type": "stream",
     "text": [
      "-2x+9\n"
     ]
    }
   ],
   "source": [
    "eq=Equacao_primeiro_grau(-2,9)\n",
    "eq.mostra_equação()"
   ]
  },
  {
   "cell_type": "code",
   "execution_count": 52,
   "metadata": {},
   "outputs": [],
   "source": [
    "#Herança\n",
    "\n",
    "class Empresa:\n",
    "    def __init__(self, nome, data_admissao, salario):\n",
    "        self.Funcionario = nome\n",
    "        self.Ingresso = data_admissao\n",
    "        self.Remuneracao = salario\n",
    "    def dados(self):\n",
    "        print('Nome: {}\\nData de Adimissão: {}\\nSalário Atual: {}'.format(self.Funcionario,self.Ingresso,self.Remuneracao))\n",
    "    "
   ]
  },
  {
   "cell_type": "code",
   "execution_count": 53,
   "metadata": {},
   "outputs": [
    {
     "name": "stdout",
     "output_type": "stream",
     "text": [
      "Nome: Igor\n",
      "Data de Adimissão: 01/02/2025\n",
      "Salário Atual: 5000.43\n"
     ]
    }
   ],
   "source": [
    "dados=Empresa('Igor','01/02/2025', 5000.43)\n",
    "dados.dados()"
   ]
  },
  {
   "cell_type": "code",
   "execution_count": 54,
   "metadata": {},
   "outputs": [],
   "source": [
    "class Vendas(Empresa):\n",
    "    def __init__(self, nome, data_admissao, salario, responsavel, projeto, classe):\n",
    "        super().__init__(nome,data_admissao,salario)\n",
    "        self.Responsavel = responsavel\n",
    "        self.Projeto = projeto\n",
    "        self.Nível = classe\n",
    "    def relatório (self):\n",
    "        print('Responsável Técnico: {}\\nProjeto Atual: {}\\nNível: {}'.format(self.Remuneracao,self.Projeto,self.Nível))"
   ]
  },
  {
   "cell_type": "code",
   "execution_count": 55,
   "metadata": {},
   "outputs": [],
   "source": [
    "dados_vendas=Vendas('Igor','01/02/2025', 5000.43, 'Roberta', 'Havaianas' , 'II')"
   ]
  },
  {
   "cell_type": "code",
   "execution_count": 59,
   "metadata": {},
   "outputs": [
    {
     "name": "stdout",
     "output_type": "stream",
     "text": [
      "Nome: Igor\n",
      "Data de Adimissão: 01/02/2025\n",
      "Salário Atual: 5000.43\n",
      "Responsável Técnico: 5000.43\n",
      "Projeto Atual: Havaianas\n",
      "Nível: II\n"
     ]
    }
   ],
   "source": [
    "dados_vendas.dados()\n",
    "\n",
    "\n",
    "dados_vendas.relatório()"
   ]
  },
  {
   "cell_type": "code",
   "execution_count": 6,
   "metadata": {},
   "outputs": [],
   "source": [
    "class Marketing(Empresa):\n",
    "    def __init__(self, nome, data_admissao, salario, responsavel, projeto, prazo):\n",
    "        super().__init__(nome,data_admissao,salario)\n",
    "        self.Responsavel = responsavel\n",
    "        self.Projeto = projeto\n",
    "        self.Prazo = prazo\n",
    "    def relatorio (self):\n",
    "        print('Responsável Técnico: {}\\nProjeto Atual: {}\\nPrazo: {}'.format(self.Remuneracao,self.Projeto,self.Prazo))"
   ]
  },
  {
   "cell_type": "code",
   "execution_count": 8,
   "metadata": {},
   "outputs": [
    {
     "ename": "TypeError",
     "evalue": "Empresa.__init__() missing 1 required positional argument: 'salario'",
     "output_type": "error",
     "traceback": [
      "\u001b[1;31m---------------------------------------------------------------------------\u001b[0m",
      "\u001b[1;31mTypeError\u001b[0m                                 Traceback (most recent call last)",
      "Cell \u001b[1;32mIn[8], line 1\u001b[0m\n\u001b[1;32m----> 1\u001b[0m dados_marketing\u001b[38;5;241m=\u001b[39m\u001b[43mMarketing\u001b[49m\u001b[43m(\u001b[49m\u001b[38;5;124;43m'\u001b[39;49m\u001b[38;5;124;43mIgor\u001b[39;49m\u001b[38;5;124;43m'\u001b[39;49m\u001b[43m,\u001b[49m\u001b[38;5;124;43m'\u001b[39;49m\u001b[38;5;124;43m01/02/2025\u001b[39;49m\u001b[38;5;124;43m'\u001b[39;49m\u001b[43m,\u001b[49m\u001b[43m \u001b[49m\u001b[38;5;241;43m5000.43\u001b[39;49m\u001b[43m,\u001b[49m\u001b[43m \u001b[49m\u001b[38;5;124;43m'\u001b[39;49m\u001b[38;5;124;43mRoberta\u001b[39;49m\u001b[38;5;124;43m'\u001b[39;49m\u001b[43m,\u001b[49m\u001b[43m \u001b[49m\u001b[38;5;124;43m'\u001b[39;49m\u001b[38;5;124;43mHavaianas\u001b[39;49m\u001b[38;5;124;43m'\u001b[39;49m\u001b[43m \u001b[49m\u001b[43m,\u001b[49m\u001b[43m \u001b[49m\u001b[38;5;124;43m'\u001b[39;49m\u001b[38;5;124;43m45 dias\u001b[39;49m\u001b[38;5;124;43m'\u001b[39;49m\u001b[43m)\u001b[49m\n",
      "Cell \u001b[1;32mIn[6], line 3\u001b[0m, in \u001b[0;36mMarketing.__init__\u001b[1;34m(self, nome, data_admissao, salario, responsavel, projeto, prazo)\u001b[0m\n\u001b[0;32m      2\u001b[0m \u001b[38;5;28;01mdef\u001b[39;00m\u001b[38;5;250m \u001b[39m\u001b[38;5;21m__init__\u001b[39m(\u001b[38;5;28mself\u001b[39m, nome, data_admissao, salario, responsavel, projeto, prazo):\n\u001b[1;32m----> 3\u001b[0m     \u001b[38;5;28;43msuper\u001b[39;49m\u001b[43m(\u001b[49m\u001b[43m)\u001b[49m\u001b[38;5;241;43m.\u001b[39;49m\u001b[38;5;21;43m__init__\u001b[39;49m\u001b[43m(\u001b[49m\u001b[43mnome\u001b[49m\u001b[43m,\u001b[49m\u001b[43mdata_admissao\u001b[49m\u001b[43m,\u001b[49m\u001b[43msalario\u001b[49m\u001b[43m)\u001b[49m\n\u001b[0;32m      4\u001b[0m     \u001b[38;5;28mself\u001b[39m\u001b[38;5;241m.\u001b[39mResponsavel \u001b[38;5;241m=\u001b[39m responsavel\n\u001b[0;32m      5\u001b[0m     \u001b[38;5;28mself\u001b[39m\u001b[38;5;241m.\u001b[39mProjeto \u001b[38;5;241m=\u001b[39m projeto\n",
      "\u001b[1;31mTypeError\u001b[0m: Empresa.__init__() missing 1 required positional argument: 'salario'"
     ]
    }
   ],
   "source": [
    "dados_marketing=Marketing('Igor','01/02/2025', 5000.43, 'Roberta', 'Havaianas' , '45 dias')"
   ]
  },
  {
   "cell_type": "code",
   "execution_count": 81,
   "metadata": {},
   "outputs": [
    {
     "name": "stdout",
     "output_type": "stream",
     "text": [
      "Responsável Técnico: 5000.43\n",
      "Projeto Atual: Havaianas\n",
      "Prazo: 45 dias\n"
     ]
    }
   ],
   "source": [
    "dados_marketing.relatorio()"
   ]
  },
  {
   "cell_type": "code",
   "execution_count": 96,
   "metadata": {},
   "outputs": [],
   "source": [
    "class Segmento_vendas(Vendas):\n",
    "    def __init__(self, nome, data_admissao, salario, responsavel, projeto, classe, segmento, meta):\n",
    "        super().__init__(nome, data_admissao, salario, responsavel, projeto, classe)\n",
    "        self.Segmento = segmento\n",
    "        self.Meta = meta\n",
    "        def relatório (self):\n",
    "            print('Segmento de Vendas: {}\\n Meta a Atingir: {}'.format(self.Segmento, self.Meta))"
   ]
  },
  {
   "cell_type": "code",
   "execution_count": 97,
   "metadata": {},
   "outputs": [
    {
     "name": "stdout",
     "output_type": "stream",
     "text": [
      "Responsável Técnico: 5000.43\n",
      "Projeto Atual: Havaianas\n",
      "Nível: II\n"
     ]
    }
   ],
   "source": [
    "dados_vendas_segmentadas = Segmento_vendas('Igor','01/02/2025', 5000.43, 'Roberta', 'Havaianas' , 'II', 'Online', 200)\n",
    "dados_vendas_segmentadas.relatório()"
   ]
  },
  {
   "cell_type": "code",
   "execution_count": 1,
   "metadata": {},
   "outputs": [],
   "source": [
    "class Conglomerado:\n",
    "    def __init__(self, filial):\n",
    "        self.Nome_Filial = filial\n",
    "    def Relatório (self):\n",
    "        raise NotImplementedError(\"A subclasse deve implementar este método\")"
   ]
  },
  {
   "cell_type": "code",
   "execution_count": 2,
   "metadata": {},
   "outputs": [],
   "source": [
    "class Empresa(Conglomerado):\n",
    "    def __init__(self, filial, nome, data_admissao, salario):\n",
    "        super().__init__(filial)\n",
    "        self.Funcionario = nome\n",
    "        self.Ingresso = data_admissao\n",
    "        self.Remuneracao = salario\n",
    "    def Relatório(self):\n",
    "        print('Nome: {}\\nData de Adimissão: {}\\nSalário Atual: {}'.format(self.Funcionario,self.Ingresso,self.Remuneracao))\n",
    "    "
   ]
  },
  {
   "cell_type": "code",
   "execution_count": 3,
   "metadata": {},
   "outputs": [],
   "source": [
    "dados_conglomerado = Conglomerado('Rio de Janeiro')\n",
    "dados_empresa = Empresa('Rio de Janeiro', 'Igor','01/02/2025', 5000.43)"
   ]
  },
  {
   "cell_type": "code",
   "execution_count": 5,
   "metadata": {},
   "outputs": [
    {
     "name": "stdout",
     "output_type": "stream",
     "text": [
      "Nome: Igor\n",
      "Data de Adimissão: 01/02/2025\n",
      "Salário Atual: 5000.43\n"
     ]
    }
   ],
   "source": [
    "dados_empresa.Relatório()"
   ]
  }
 ],
 "metadata": {
  "kernelspec": {
   "display_name": "Python 3",
   "language": "python",
   "name": "python3"
  },
  "language_info": {
   "codemirror_mode": {
    "name": "ipython",
    "version": 3
   },
   "file_extension": ".py",
   "mimetype": "text/x-python",
   "name": "python",
   "nbconvert_exporter": "python",
   "pygments_lexer": "ipython3",
   "version": "3.12.9"
  }
 },
 "nbformat": 4,
 "nbformat_minor": 2
}
